{
 "cells": [
  {
   "cell_type": "markdown",
   "metadata": {},
   "source": [
    "# Score Metrics"
   ]
  },
  {
   "cell_type": "markdown",
   "metadata": {},
   "source": [
    "## Fetch all repositories"
   ]
  },
  {
   "cell_type": "code",
   "execution_count": 1,
   "metadata": {},
   "outputs": [],
   "source": [
    "from edfi_tech_metrics.ossf_score import fetch_repositories\n",
    "from edfi_tech_metrics.disable_tls import no_tls_verification\n",
    "\n",
    "# Fetch repositories for Ed-Fi-Alliance-OSS and Ed-Fi-Exchange-OSS\n",
    "with no_tls_verification():\n",
    "    ed_fi_alliance_repos = fetch_repositories('Ed-Fi-Alliance-OSS')\n",
    "    ed_fi_exchange_repos = fetch_repositories('Ed-Fi-Exchange-OSS')\n",
    "\n",
    "# Combine the repositories\n",
    "repositories = ed_fi_alliance_repos + ed_fi_exchange_repos\n",
    "\n",
    "# Display the repositories\n",
    "# repositories"
   ]
  },
  {
   "cell_type": "markdown",
   "metadata": {},
   "source": [
    "### Retrieve OSSF Scores"
   ]
  },
  {
   "cell_type": "code",
   "execution_count": 2,
   "metadata": {},
   "outputs": [],
   "source": [
    "import math\n",
    "import pandas as pd\n",
    "\n",
    "from edfi_tech_metrics.ossf_score import report_ossf_scores\n",
    "\n",
    "# Get and print the OSSF scores\n",
    "with no_tls_verification():\n",
    "    ossf_scores = report_ossf_scores(repositories)\n",
    "    \n",
    "ossf_scores_df = pd.DataFrame(list(ossf_scores.items()), columns=['Repository', 'Score'])\n",
    "\n",
    "# Filter out the repositories where math.isnan is false\n",
    "valid_ossf_scores_df = ossf_scores_df[ossf_scores_df['Score'].apply(lambda x: not math.isnan(x))]\n",
    "\n",
    "# Filter out the repositories where math.isnan is true\n",
    "invalid_ossf_scores_df = ossf_scores_df[ossf_scores_df['Score'].apply(lambda x: math.isnan(x))]\n"
   ]
  },
  {
   "cell_type": "markdown",
   "metadata": {},
   "source": [
    "### Saving OSSF Scores to a .csv file"
   ]
  },
  {
   "cell_type": "code",
   "execution_count": 3,
   "metadata": {},
   "outputs": [
    {
     "name": "stdout",
     "output_type": "stream",
     "text": [
      "OSSF scores saved to ./data/ossf-scores/2024-11-12.csv\n"
     ]
    }
   ],
   "source": [
    "from datetime import datetime\n",
    "\n",
    "# Save the scores to a CSV file\n",
    "now = datetime.strftime(datetime.now(), \"%Y-%m-%d\")\n",
    "output_file = f\"./data/ossf-scores/{now}.csv\"\n",
    "ossf_scores_df.to_csv(output_file, index=False)\n",
    "\n",
    "print(f\"OSSF scores saved to {output_file}\")"
   ]
  },
  {
   "cell_type": "markdown",
   "metadata": {},
   "source": [
    "### OSSF Score Histogram"
   ]
  },
  {
   "cell_type": "code",
   "execution_count": 4,
   "metadata": {},
   "outputs": [
    {
     "data": {
      "image/png": "[encoded data removed]"
     },
     "metadata": {
      "image/png": {
       "height": 480,
       "width": 640
      }
     },
     "output_type": "display_data"
    }
   ],
   "source": [
    "from plotnine import ggplot, aes, geom_histogram\n",
    "\n",
    "# Plot the OSSF scores\n",
    "plot = ggplot(valid_ossf_scores_df, aes(x='Score')) + geom_histogram(bins=10,binwidth=0.25, fill='lightblue', color='black', alpha=0.7)\n",
    "\n",
    "plot"
   ]
  },
  {
   "cell_type": "markdown",
   "metadata": {},
   "source": [
    "### OSSF Scores"
   ]
  },
  {
   "cell_type": "code",
   "execution_count": 5,
   "metadata": {},
   "outputs": [
    {
     "data": {
      "text/html": [
       "<div>\n",
       "<style scoped>\n",
       "    .dataframe tbody tr th:only-of-type {\n",
       "        vertical-align: middle;\n",
       "    }\n",
       "\n",
       "    .dataframe tbody tr th {\n",
       "        vertical-align: top;\n",
       "    }\n",
       "\n",
       "    .dataframe thead th {\n",
       "        text-align: right;\n",
       "    }\n",
       "</style>\n",
       "<table border=\"1\" class=\"dataframe\">\n",
       "  <thead>\n",
       "    <tr style=\"text-align: right;\">\n",
       "      <th></th>\n",
       "      <th>Repository</th>\n",
       "      <th>Score</th>\n",
       "    </tr>\n",
       "  </thead>\n",
       "  <tbody>\n",
       "    <tr>\n",
       "      <th>0</th>\n",
       "      <td>Ed-Fi-Alliance-OSS/Data-Management-Service</td>\n",
       "      <td>9.0</td>\n",
       "    </tr>\n",
       "    <tr>\n",
       "      <th>1</th>\n",
       "      <td>Ed-Fi-Alliance-OSS/Ed-Fi-API-Publisher</td>\n",
       "      <td>8.8</td>\n",
       "    </tr>\n",
       "    <tr>\n",
       "      <th>2</th>\n",
       "      <td>Ed-Fi-Alliance-OSS/AdminAPI-1.x</td>\n",
       "      <td>8.6</td>\n",
       "    </tr>\n",
       "    <tr>\n",
       "      <th>3</th>\n",
       "      <td>Ed-Fi-Alliance-OSS/Ed-Fi-ODS-AdminApp</td>\n",
       "      <td>8.3</td>\n",
       "    </tr>\n",
       "    <tr>\n",
       "      <th>4</th>\n",
       "      <td>Ed-Fi-Exchange-OSS/Meadowlark</td>\n",
       "      <td>8.2</td>\n",
       "    </tr>\n",
       "    <tr>\n",
       "      <th>5</th>\n",
       "      <td>Ed-Fi-Alliance-OSS/AdminAPI-2.x</td>\n",
       "      <td>8.2</td>\n",
       "    </tr>\n",
       "    <tr>\n",
       "      <th>6</th>\n",
       "      <td>Ed-Fi-Alliance-OSS/Ed-Fi-DataImport</td>\n",
       "      <td>8.1</td>\n",
       "    </tr>\n",
       "    <tr>\n",
       "      <th>7</th>\n",
       "      <td>Ed-Fi-Alliance-OSS/Ed-Fi-ODS-Implementation</td>\n",
       "      <td>7.9</td>\n",
       "    </tr>\n",
       "    <tr>\n",
       "      <th>8</th>\n",
       "      <td>Ed-Fi-Alliance-OSS/Ed-Fi-Compatibility-Libraries</td>\n",
       "      <td>7.7</td>\n",
       "    </tr>\n",
       "    <tr>\n",
       "      <th>9</th>\n",
       "      <td>Ed-Fi-Alliance-OSS/Ed-Fi-ODS</td>\n",
       "      <td>7.6</td>\n",
       "    </tr>\n",
       "    <tr>\n",
       "      <th>10</th>\n",
       "      <td>Ed-Fi-Alliance-OSS/Ed-Fi-Databases</td>\n",
       "      <td>7.4</td>\n",
       "    </tr>\n",
       "    <tr>\n",
       "      <th>11</th>\n",
       "      <td>Ed-Fi-Alliance-OSS/DMS-Configuration-Service</td>\n",
       "      <td>7.2</td>\n",
       "    </tr>\n",
       "    <tr>\n",
       "      <th>12</th>\n",
       "      <td>Ed-Fi-Alliance-OSS/Ed-Fi-Data-Standard</td>\n",
       "      <td>7.2</td>\n",
       "    </tr>\n",
       "    <tr>\n",
       "      <th>13</th>\n",
       "      <td>Ed-Fi-Alliance-OSS/Ed-Fi-Extensions</td>\n",
       "      <td>7.2</td>\n",
       "    </tr>\n",
       "    <tr>\n",
       "      <th>14</th>\n",
       "      <td>Ed-Fi-Exchange-OSS/Ed-Fi-MigrationUtility</td>\n",
       "      <td>7.1</td>\n",
       "    </tr>\n",
       "    <tr>\n",
       "      <th>15</th>\n",
       "      <td>Ed-Fi-Alliance-OSS/ed-fi-alliance-oss.github.io</td>\n",
       "      <td>7.1</td>\n",
       "    </tr>\n",
       "    <tr>\n",
       "      <th>16</th>\n",
       "      <td>Ed-Fi-Alliance-OSS/Ed-Fi-Kafka-Connect</td>\n",
       "      <td>7.1</td>\n",
       "    </tr>\n",
       "    <tr>\n",
       "      <th>17</th>\n",
       "      <td>Ed-Fi-Alliance-OSS/Ed-Fi-Analytics-Middle-Tier</td>\n",
       "      <td>6.9</td>\n",
       "    </tr>\n",
       "    <tr>\n",
       "      <th>18</th>\n",
       "      <td>Ed-Fi-Exchange-OSS/TPDM-Community-Extension</td>\n",
       "      <td>6.8</td>\n",
       "    </tr>\n",
       "    <tr>\n",
       "      <th>19</th>\n",
       "      <td>Ed-Fi-Exchange-OSS/Suite-3-Performance-Testing</td>\n",
       "      <td>6.8</td>\n",
       "    </tr>\n",
       "    <tr>\n",
       "      <th>20</th>\n",
       "      <td>Ed-Fi-Alliance-OSS/Ed-Fi-API-Standards</td>\n",
       "      <td>6.8</td>\n",
       "    </tr>\n",
       "    <tr>\n",
       "      <th>21</th>\n",
       "      <td>Ed-Fi-Alliance-OSS/Ed-Fi-ODS-Docker</td>\n",
       "      <td>6.8</td>\n",
       "    </tr>\n",
       "    <tr>\n",
       "      <th>22</th>\n",
       "      <td>Ed-Fi-Exchange-OSS/Leadership-Profile</td>\n",
       "      <td>6.6</td>\n",
       "    </tr>\n",
       "    <tr>\n",
       "      <th>23</th>\n",
       "      <td>Ed-Fi-Alliance-OSS/slsa-github-generator</td>\n",
       "      <td>6.6</td>\n",
       "    </tr>\n",
       "    <tr>\n",
       "      <th>24</th>\n",
       "      <td>Ed-Fi-Exchange-OSS/Ed-Fi-TPDM-Community-Model</td>\n",
       "      <td>6.4</td>\n",
       "    </tr>\n",
       "    <tr>\n",
       "      <th>25</th>\n",
       "      <td>Ed-Fi-Exchange-OSS/Ed-Fi-TPDM-Community-Artifacts</td>\n",
       "      <td>6.3</td>\n",
       "    </tr>\n",
       "    <tr>\n",
       "      <th>26</th>\n",
       "      <td>Ed-Fi-Exchange-OSS/EvaluationTracker</td>\n",
       "      <td>6.3</td>\n",
       "    </tr>\n",
       "    <tr>\n",
       "      <th>27</th>\n",
       "      <td>Ed-Fi-Exchange-OSS/LMS-Toolkit</td>\n",
       "      <td>5.8</td>\n",
       "    </tr>\n",
       "    <tr>\n",
       "      <th>28</th>\n",
       "      <td>Ed-Fi-Alliance-OSS/data-standard-docs</td>\n",
       "      <td>4.9</td>\n",
       "    </tr>\n",
       "  </tbody>\n",
       "</table>\n",
       "</div>"
      ],
      "text/plain": [
       "                                           Repository  Score\n",
       "0          Ed-Fi-Alliance-OSS/Data-Management-Service    9.0\n",
       "1              Ed-Fi-Alliance-OSS/Ed-Fi-API-Publisher    8.8\n",
       "2                     Ed-Fi-Alliance-OSS/AdminAPI-1.x    8.6\n",
       "3               Ed-Fi-Alliance-OSS/Ed-Fi-ODS-AdminApp    8.3\n",
       "4                       Ed-Fi-Exchange-OSS/Meadowlark    8.2\n",
       "5                     Ed-Fi-Alliance-OSS/AdminAPI-2.x    8.2\n",
       "6                 Ed-Fi-Alliance-OSS/Ed-Fi-DataImport    8.1\n",
       "7         Ed-Fi-Alliance-OSS/Ed-Fi-ODS-Implementation    7.9\n",
       "8    Ed-Fi-Alliance-OSS/Ed-Fi-Compatibility-Libraries    7.7\n",
       "9                        Ed-Fi-Alliance-OSS/Ed-Fi-ODS    7.6\n",
       "10                 Ed-Fi-Alliance-OSS/Ed-Fi-Databases    7.4\n",
       "11       Ed-Fi-Alliance-OSS/DMS-Configuration-Service    7.2\n",
       "12             Ed-Fi-Alliance-OSS/Ed-Fi-Data-Standard    7.2\n",
       "13                Ed-Fi-Alliance-OSS/Ed-Fi-Extensions    7.2\n",
       "14          Ed-Fi-Exchange-OSS/Ed-Fi-MigrationUtility    7.1\n",
       "15    Ed-Fi-Alliance-OSS/ed-fi-alliance-oss.github.io    7.1\n",
       "16             Ed-Fi-Alliance-OSS/Ed-Fi-Kafka-Connect    7.1\n",
       "17     Ed-Fi-Alliance-OSS/Ed-Fi-Analytics-Middle-Tier    6.9\n",
       "18        Ed-Fi-Exchange-OSS/TPDM-Community-Extension    6.8\n",
       "19     Ed-Fi-Exchange-OSS/Suite-3-Performance-Testing    6.8\n",
       "20             Ed-Fi-Alliance-OSS/Ed-Fi-API-Standards    6.8\n",
       "21                Ed-Fi-Alliance-OSS/Ed-Fi-ODS-Docker    6.8\n",
       "22              Ed-Fi-Exchange-OSS/Leadership-Profile    6.6\n",
       "23           Ed-Fi-Alliance-OSS/slsa-github-generator    6.6\n",
       "24      Ed-Fi-Exchange-OSS/Ed-Fi-TPDM-Community-Model    6.4\n",
       "25  Ed-Fi-Exchange-OSS/Ed-Fi-TPDM-Community-Artifacts    6.3\n",
       "26               Ed-Fi-Exchange-OSS/EvaluationTracker    6.3\n",
       "27                     Ed-Fi-Exchange-OSS/LMS-Toolkit    5.8\n",
       "28              Ed-Fi-Alliance-OSS/data-standard-docs    4.9"
      ]
     },
     "metadata": {},
     "output_type": "display_data"
    },
    {
     "data": {
      "text/html": [
       "<div>\n",
       "<style scoped>\n",
       "    .dataframe tbody tr th:only-of-type {\n",
       "        vertical-align: middle;\n",
       "    }\n",
       "\n",
       "    .dataframe tbody tr th {\n",
       "        vertical-align: top;\n",
       "    }\n",
       "\n",
       "    .dataframe thead th {\n",
       "        text-align: right;\n",
       "    }\n",
       "</style>\n",
       "<table border=\"1\" class=\"dataframe\">\n",
       "  <thead>\n",
       "    <tr style=\"text-align: right;\">\n",
       "      <th></th>\n",
       "      <th>Score</th>\n",
       "    </tr>\n",
       "  </thead>\n",
       "  <tbody>\n",
       "    <tr>\n",
       "      <th>count</th>\n",
       "      <td>29.000000</td>\n",
       "    </tr>\n",
       "    <tr>\n",
       "      <th>mean</th>\n",
       "      <td>7.231034</td>\n",
       "    </tr>\n",
       "    <tr>\n",
       "      <th>std</th>\n",
       "      <td>0.919667</td>\n",
       "    </tr>\n",
       "    <tr>\n",
       "      <th>min</th>\n",
       "      <td>4.900000</td>\n",
       "    </tr>\n",
       "    <tr>\n",
       "      <th>25%</th>\n",
       "      <td>6.800000</td>\n",
       "    </tr>\n",
       "    <tr>\n",
       "      <th>50%</th>\n",
       "      <td>7.100000</td>\n",
       "    </tr>\n",
       "    <tr>\n",
       "      <th>75%</th>\n",
       "      <td>7.900000</td>\n",
       "    </tr>\n",
       "    <tr>\n",
       "      <th>max</th>\n",
       "      <td>9.000000</td>\n",
       "    </tr>\n",
       "  </tbody>\n",
       "</table>\n",
       "</div>"
      ],
      "text/plain": [
       "           Score\n",
       "count  29.000000\n",
       "mean    7.231034\n",
       "std     0.919667\n",
       "min     4.900000\n",
       "25%     6.800000\n",
       "50%     7.100000\n",
       "75%     7.900000\n",
       "max     9.000000"
      ]
     },
     "execution_count": 5,
     "metadata": {},
     "output_type": "execute_result"
    }
   ],
   "source": [
    "display(valid_ossf_scores_df.sort_values(by='Score', ascending=False).reset_index(drop=True))\n",
    "\n",
    "valid_ossf_scores_df.describe()"
   ]
  },
  {
   "cell_type": "markdown",
   "metadata": {},
   "source": [
    "### Repositories without an OSSF Scorecard"
   ]
  },
  {
   "cell_type": "code",
   "execution_count": 6,
   "metadata": {},
   "outputs": [
    {
     "data": {
      "text/html": [
       "<div>\n",
       "<style scoped>\n",
       "    .dataframe tbody tr th:only-of-type {\n",
       "        vertical-align: middle;\n",
       "    }\n",
       "\n",
       "    .dataframe tbody tr th {\n",
       "        vertical-align: top;\n",
       "    }\n",
       "\n",
       "    .dataframe thead th {\n",
       "        text-align: right;\n",
       "    }\n",
       "</style>\n",
       "<table border=\"1\" class=\"dataframe\">\n",
       "  <thead>\n",
       "    <tr style=\"text-align: right;\">\n",
       "      <th></th>\n",
       "      <th>Repository</th>\n",
       "      <th>Score</th>\n",
       "    </tr>\n",
       "  </thead>\n",
       "  <tbody>\n",
       "    <tr>\n",
       "      <th>0</th>\n",
       "      <td>Ed-Fi-Alliance-OSS/EdFi.Installer.AppCommon</td>\n",
       "      <td>NaN</td>\n",
       "    </tr>\n",
       "    <tr>\n",
       "      <th>1</th>\n",
       "      <td>Ed-Fi-Alliance-OSS/Ed-Fi-TPDM-Artifacts</td>\n",
       "      <td>NaN</td>\n",
       "    </tr>\n",
       "    <tr>\n",
       "      <th>2</th>\n",
       "      <td>Ed-Fi-Alliance-OSS/Ed-Fi-Actions</td>\n",
       "      <td>NaN</td>\n",
       "    </tr>\n",
       "    <tr>\n",
       "      <th>3</th>\n",
       "      <td>Ed-Fi-Alliance-OSS/Actions-Demonstrations</td>\n",
       "      <td>NaN</td>\n",
       "    </tr>\n",
       "    <tr>\n",
       "      <th>4</th>\n",
       "      <td>Ed-Fi-Alliance-OSS/DevSecOps</td>\n",
       "      <td>NaN</td>\n",
       "    </tr>\n",
       "    <tr>\n",
       "      <th>...</th>\n",
       "      <td>...</td>\n",
       "      <td>...</td>\n",
       "    </tr>\n",
       "    <tr>\n",
       "      <th>89</th>\n",
       "      <td>Ed-Fi-Exchange-OSS/YesPrep-FamilyEngagementPor...</td>\n",
       "      <td>NaN</td>\n",
       "    </tr>\n",
       "    <tr>\n",
       "      <th>90</th>\n",
       "      <td>Ed-Fi-Exchange-OSS/YesPrep-FamilyEngagementPor...</td>\n",
       "      <td>NaN</td>\n",
       "    </tr>\n",
       "    <tr>\n",
       "      <th>91</th>\n",
       "      <td>Ed-Fi-Exchange-OSS/ParallelAPIConsumption</td>\n",
       "      <td>NaN</td>\n",
       "    </tr>\n",
       "    <tr>\n",
       "      <th>92</th>\n",
       "      <td>Ed-Fi-Exchange-OSS/Student-Engagement-Management</td>\n",
       "      <td>NaN</td>\n",
       "    </tr>\n",
       "    <tr>\n",
       "      <th>93</th>\n",
       "      <td>Ed-Fi-Exchange-OSS/n8n-demo-file-to-API</td>\n",
       "      <td>NaN</td>\n",
       "    </tr>\n",
       "  </tbody>\n",
       "</table>\n",
       "<p>94 rows × 2 columns</p>\n",
       "</div>"
      ],
      "text/plain": [
       "                                           Repository  Score\n",
       "0         Ed-Fi-Alliance-OSS/EdFi.Installer.AppCommon    NaN\n",
       "1             Ed-Fi-Alliance-OSS/Ed-Fi-TPDM-Artifacts    NaN\n",
       "2                    Ed-Fi-Alliance-OSS/Ed-Fi-Actions    NaN\n",
       "3           Ed-Fi-Alliance-OSS/Actions-Demonstrations    NaN\n",
       "4                        Ed-Fi-Alliance-OSS/DevSecOps    NaN\n",
       "..                                                ...    ...\n",
       "89  Ed-Fi-Exchange-OSS/YesPrep-FamilyEngagementPor...    NaN\n",
       "90  Ed-Fi-Exchange-OSS/YesPrep-FamilyEngagementPor...    NaN\n",
       "91          Ed-Fi-Exchange-OSS/ParallelAPIConsumption    NaN\n",
       "92   Ed-Fi-Exchange-OSS/Student-Engagement-Management    NaN\n",
       "93            Ed-Fi-Exchange-OSS/n8n-demo-file-to-API    NaN\n",
       "\n",
       "[94 rows x 2 columns]"
      ]
     },
     "metadata": {},
     "output_type": "display_data"
    }
   ],
   "source": [
    "display(invalid_ossf_scores_df.reset_index(drop=True))"
   ]
  },
  {
   "cell_type": "markdown",
   "metadata": {},
   "source": [
    "### Compare current scores to previous scores"
   ]
  },
  {
   "cell_type": "code",
   "execution_count": 7,
   "metadata": {},
   "outputs": [
    {
     "data": {
      "text/markdown": [
       "#### No repositories improved by 10% or more."
      ],
      "text/plain": [
       "<IPython.core.display.Markdown object>"
      ]
     },
     "metadata": {},
     "output_type": "display_data"
    },
    {
     "data": {
      "text/markdown": [
       "#### No repositories worsened by 10% or more."
      ],
      "text/plain": [
       "<IPython.core.display.Markdown object>"
      ]
     },
     "metadata": {},
     "output_type": "display_data"
    }
   ],
   "source": [
    "from edfi_tech_metrics.ossf_score import compare_with_previous_scores\n",
    "from IPython.display import display, Markdown\n",
    "\n",
    "comparison_df, improved_repos, worsened_repos = compare_with_previous_scores(ossf_scores)\n",
    "\n",
    "# Display improved and worsened repositories\n",
    "if improved_repos:\n",
    "    improved_df = comparison_df[comparison_df['Repository'].isin(improved_repos)][['Repository', 'Previous Score', 'Current Score', 'Percentage Change']]\n",
    "    improved_df = improved_df.sort_values('Percentage Change', ascending=False).reset_index(drop=True)\n",
    "    display(Markdown(\"#### Repositories improved by 10% or more:\"))\n",
    "    display(improved_df)\n",
    "else:\n",
    "    display(Markdown(\"#### No repositories improved by 10% or more.\"))\n",
    "\n",
    "if worsened_repos:\n",
    "    worsened_df = comparison_df[comparison_df['Repository'].isin(worsened_repos)][['Repository', 'Previous Score', 'Current Score', 'Percentage Change']]\n",
    "    worsened_df = worsened_df.sort_values('Percentage Change', ascending=True).reset_index(drop=True)\n",
    "    display(Markdown(\"#### Repositories worsened by 10% or more:\"))\n",
    "    display(worsened_df)\n",
    "else:\n",
    "    display(Markdown(\"#### No repositories worsened by 10% or more.\"))"
   ]
  },
  {
   "cell_type": "code",
   "execution_count": null,
   "metadata": {},
   "outputs": [],
   "source": []
  }
 ],
 "metadata": {
  "kernelspec": {
   "display_name": "Python 3 (ipykernel)",
   "language": "python",
   "name": "python3"
  },
  "language_info": {
   "codemirror_mode": {
    "name": "ipython",
    "version": 3
   },
   "file_extension": ".py",
   "mimetype": "text/x-python",
   "name": "python",
   "nbconvert_exporter": "python",
   "pygments_lexer": "ipython3",
   "version": "3.10.5"
  }
 },
 "nbformat": 4,
 "nbformat_minor": 4
}
