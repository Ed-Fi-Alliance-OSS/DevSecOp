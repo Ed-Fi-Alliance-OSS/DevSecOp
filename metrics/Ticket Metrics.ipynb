{
 "cells": [
  {
   "cell_type": "markdown",
   "id": "a6222329-cafe-41cf-a519-1eaa387888fd",
   "metadata": {},
   "source": [
    "# Tech Team Ticket Metrics"
   ]
  },
  {
   "cell_type": "markdown",
   "id": "8e36d4b4-5256-4e04-be48-f98de36c073e",
   "metadata": {},
   "source": [
    "## Retrieve Current Data"
   ]
  },
  {
   "cell_type": "code",
   "execution_count": null,
   "id": "0a526a7d-4db7-48c1-8ebd-73f6ae2d27b2",
   "metadata": {},
   "outputs": [],
   "source": [
    "# SPDX-License-Identifier: Apache-2.0\n",
    "# Licensed to the Ed-Fi Alliance under one or more agreements.\n",
    "# The Ed-Fi Alliance licenses this file to you under the Apache License, Version 2.0.\n",
    "# See the LICENSE and NOTICES files in the project root for more information.\n",
    "\n",
    "from edfi_tech_metrics.settings import load_from_env, Configuration\n",
    "from edfi_tech_metrics.jira import JiraBrowser\n",
    "from edfi_tech_metrics.ticket_age import write_ticket_age_files, generate_ticket_age_plots\n",
    "\n",
    "conf: Configuration = load_from_env()\n",
    "#conf.log_level = \"DEBUG\"\n",
    "browser = JiraBrowser(conf)\n",
    "\n",
    "portfolios = {\n",
    "    \"ODS Platform\": [\"ODS\", \"PERF\"],\n",
    "    \"Team B\": [\"METAED\", \"DMS\", \"ADMINAPI\"],\n",
    "    \"Ed-Fi Tools\": [\"AA\", \"AC\", \"APIPUB\", \"DI\", \"EPPETA\"],\n",
    "    \"Data Standard\": [ \"DATASTD\", \"MODL\", \"TPDMDEV\"],\n",
    "    \"Support\": [\"EDFI\"]\n",
    "}\n",
    "\n",
    "projects = [i for _, v in portfolios.items() for i in v]\n",
    "df = browser.get_unresolved_tickets(projects)"
   ]
  },
  {
   "cell_type": "code",
   "execution_count": null,
   "id": "74f25a48-366a-473d-b736-ffdb91153ad6",
   "metadata": {},
   "outputs": [],
   "source": [
    "write_ticket_age_files(conf, df)"
   ]
  },
  {
   "cell_type": "markdown",
   "id": "4a4d54f7-6d8c-438b-a32e-94c7cc46902f",
   "metadata": {},
   "source": [
    "## Ticket Age\n",
    "\n",
    "The plots below are [boxplots](https://www.atlassian.com/data/charts/box-plot-complete-guide). They middle line\n",
    "is the median value and the box dimensions are sized to the first and last quartiles. In other words, 25% of all\n",
    "the records are to the left of the box, 50% are inside the box, and 25% are to the right. These boxplots are\n",
    "good for looking at the change in a distribution over time. The value printed above the box is the mean. The\n",
    "mean will typically be close to the median, but not exactly the same. The mean is our primary statistic, but\n",
    "the quartiles in the boxplot are also interesting: we might see only a small change in the mean, but a big\n",
    "change in the median. That is usually a good sign.\n",
    "\n",
    "If a plot only has one box in it, that means it was the first month in which we reported on that project.\n",
    "\n",
    "### All Tickets"
   ]
  },
  {
   "cell_type": "code",
   "execution_count": null,
   "id": "97cc40fb-442b-41c1-b104-1289fd09dbe5",
   "metadata": {},
   "outputs": [],
   "source": [
    "generate_ticket_age_plots(\"./data/ticket-age\", projects)"
   ]
  },
  {
   "cell_type": "markdown",
   "id": "5a561ad9-0a07-4bb2-8db2-07c5dcd25f0b",
   "metadata": {},
   "source": [
    "### Filtered Tickets\n",
    "\n",
    "These plots exclude \"Test\" type tickets and those that have an assigned Fix Version."
   ]
  },
  {
   "cell_type": "code",
   "execution_count": null,
   "id": "4c49bb34-b3b5-464f-b56e-8a6b155715cf",
   "metadata": {},
   "outputs": [],
   "source": [
    "generate_ticket_age_plots(\"./data/ticket-age-filtered\", projects)"
   ]
  },
  {
   "cell_type": "markdown",
   "id": "f4c09bb5-d9c2-4c18-bd22-a6b3970dffdc",
   "metadata": {},
   "source": [
    "## Backlog Health"
   ]
  },
  {
   "cell_type": "markdown",
   "id": "d58f11fc-676c-46a4-a59b-40afbc9f7137",
   "metadata": {},
   "source": [
    "Enter current team average velocity over the last five sprints below:"
   ]
  },
  {
   "cell_type": "code",
   "execution_count": null,
   "id": "69d090c0-026c-4f97-84ba-664fc94dfcdd",
   "metadata": {},
   "outputs": [],
   "source": [
    "from edfi_tech_metrics.backlog import run_backlog_health_ui\n",
    "run_backlog_health_ui(df, portfolios)"
   ]
  }
 ],
 "metadata": {
  "kernelspec": {
   "display_name": "Python 3 (ipykernel)",
   "language": "python",
   "name": "python3"
  },
  "language_info": {
   "codemirror_mode": {
    "name": "ipython",
    "version": 3
   },
   "file_extension": ".py",
   "mimetype": "text/x-python",
   "name": "python",
   "nbconvert_exporter": "python",
   "pygments_lexer": "ipython3",
   "version": "3.10.5"
  }
 },
 "nbformat": 4,
 "nbformat_minor": 5
}
